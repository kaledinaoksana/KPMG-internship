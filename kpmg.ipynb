{
 "cells": [
  {
   "cell_type": "code",
   "execution_count": 14,
   "metadata": {},
   "outputs": [
    {
     "name": "stdout",
     "output_type": "stream",
     "text": [
      "/Users/oksana_kaledina/Documents/5_PORTFOLIO/KPMG/source/data.xlsx\n",
      "ERROR.\n",
      "% revenue =  -0.0 , % len =  0.0\n"
     ]
    },
    {
     "name": "stderr",
     "output_type": "stream",
     "text": [
      "/Users/oksana_kaledina/Documents/5_PORTFOLIO/KPMG/data_cleaning.py:18: FutureWarning: The pandas.datetime class is deprecated and will be removed from pandas in a future version. Import from datetime module instead.\n",
      "  df['age'] = df['DOB'].apply(lambda x : (pd.datetime.now().year - x.year))\n"
     ]
    }
   ],
   "source": [
    "# %load main.py\n",
    "   \n",
    "import pandas as pd\n",
    "import numpy as np\n",
    "import lib.load as load\n",
    "import data_cleaning as dc\n",
    "\n",
    "# MERGE\n",
    "def merge_df(d_d,d_t,d_a):\n",
    "    # address + demographic\n",
    "    df = d_d.merge(d_a, how = 'outer', on = 'customer_id') \n",
    "    df = df.loc[df['first_name'].notnull()].reset_index().drop(columns=['index']) \n",
    "    # address + demographic + transactions\n",
    "    df = df.merge(d_t, how = 'outer', on = 'customer_id') \n",
    "    # CLEANING MERGED DF\n",
    "    df = df.drop(df[df['transaction_id'].isnull()].index)\n",
    "    # df = df.drop(df[df['first_name'].isnull()].index)\n",
    "    # df = df.drop(df[df['address'].isnull()].index)\n",
    "    # df = df.drop(df[df['DOB'].isnull()].index)\n",
    "    return df\n",
    "\n",
    "def revenue(df):\n",
    "    return (df['list_price'].sum()-df['standard_cost'].sum())\n",
    "\n",
    "def percentage(x,y):\n",
    "    return 100*(x-y)/x\n",
    "\n",
    "df = load.load_data()\n",
    "df_transactions = df[0]\n",
    "#df_new_cust_list = df[1]\n",
    "df_demographic = df[2]\n",
    "df_address = df[3]\n",
    "\n",
    "try:\n",
    "    df_demographic = dc.clean_demographic(df_demographic).reset_index(drop=True)\n",
    "    df_address = dc.clean_address(df_address).reset_index(drop=True)\n",
    "    df_transactions = dc.clean_transactions(df_transactions).reset_index(drop=True)\n",
    "except Exception:\n",
    "    print('ERROR.')\n",
    "\n",
    "dff = merge_df(df_demographic,df_transactions,df_address)\n",
    "\n",
    "per_revenue = percentage(revenue(df[0]),revenue(dff))\n",
    "per_len = percentage(len(df[0]), len(dff))\n",
    "\n",
    "print('% revenue = ',per_revenue.round(2),', % len = ',per_len)\n",
    "\n",
    "\n"
   ]
  },
  {
   "cell_type": "code",
   "execution_count": 13,
   "metadata": {},
   "outputs": [
    {
     "name": "stdout",
     "output_type": "stream",
     "text": [
      "/Users/oksana_kaledina/Documents/5_PORTFOLIO/KPMG/source/data.xlsx\n",
      "ERROR.\n",
      "% revenue =  -0.0 , % len =  0.0\n"
     ]
    },
    {
     "name": "stderr",
     "output_type": "stream",
     "text": [
      "/Users/oksana_kaledina/Documents/5_PORTFOLIO/KPMG/data_cleaning.py:18: FutureWarning: The pandas.datetime class is deprecated and will be removed from pandas in a future version. Import from datetime module instead.\n",
      "  df['age'] = df['DOB'].apply(lambda x : (pd.datetime.now().year - x.year))\n"
     ]
    }
   ],
   "source": [
    "%run main.py"
   ]
  }
 ],
 "metadata": {
  "language_info": {
   "name": "python"
  },
  "orig_nbformat": 4
 },
 "nbformat": 4,
 "nbformat_minor": 2
}
