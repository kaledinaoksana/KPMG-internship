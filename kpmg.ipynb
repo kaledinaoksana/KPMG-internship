{
 "cells": [
  {
   "cell_type": "code",
   "execution_count": 1,
   "metadata": {},
   "outputs": [
    {
     "name": "stdout",
     "output_type": "stream",
     "text": [
      "/Users/oksana_kaledina/Documents/5_PORTFOLIO/KPMG/source/data.xlsx\n"
     ]
    },
    {
     "name": "stderr",
     "output_type": "stream",
     "text": [
      "/Users/oksana_kaledina/Documents/5_PORTFOLIO/KPMG/data_cleaning.py:19: FutureWarning: The pandas.datetime class is deprecated and will be removed from pandas in a future version. Import from datetime module instead.\n",
      "  df['age'] = df['DOB'].apply(lambda x : (pd.datetime.now().year - x.year))\n"
     ]
    }
   ],
   "source": [
    "# %load main.py\n",
    "   \n",
    "import pandas as pd\n",
    "import numpy as np\n",
    "import lib.load as load\n",
    "import data_cleaning as dc\n",
    "import lib.df_info as i\n",
    "import lib.func as f\n",
    "\n",
    "df = load.load_data()\n",
    "df_transactions = df[0]\n",
    "#df_new_cust_list = df[1]\n",
    "df_demographic = df[2]\n",
    "df_address = df[3]\n",
    "\n",
    "try:\n",
    "    df_demographic = dc.clean_demographic(df_demographic).reset_index(drop=True)\n",
    "    df_address = dc.clean_address(df_address).reset_index(drop=True)\n",
    "    df_transactions = dc.clean_transactions(df_transactions).reset_index(drop=True)\n",
    "except Exception:\n",
    "    print('ERROR.')\n",
    "    "
   ]
  },
  {
   "cell_type": "code",
   "execution_count": 2,
   "metadata": {},
   "outputs": [
    {
     "name": "stdout",
     "output_type": "stream",
     "text": [
      "TRANSACTION WITHOUT CLEAN\n",
      "Columns in original dataset: 13 \n",
      "Columns with na's dropped: 6 \n",
      "Columns with na: 7 \n",
      "Percent of columns with na: 53%\n",
      "\n",
      "360 online_order\n",
      "197 brand\n",
      "197 product_line\n",
      "197 product_class\n",
      "197 product_size\n",
      "197 standard_cost\n",
      "197 product_first_sold_date\n"
     ]
    }
   ],
   "source": [
    "print('TRANSACTION WITHOUT CLEAN')\n",
    "i.df_info.columns_na(df[0])"
   ]
  },
  {
   "cell_type": "code",
   "execution_count": 3,
   "metadata": {},
   "outputs": [
    {
     "name": "stdout",
     "output_type": "stream",
     "text": [
      "TRANSACTION CLEANING\n",
      "Columns in original dataset: 13 \n",
      "Columns with na's dropped: 13 \n",
      "Columns with na: 0 \n",
      "Percent of columns with na: 0%\n",
      "\n",
      "% revenue =  1.704114143054421e-14 , % len =  0.985\n"
     ]
    }
   ],
   "source": [
    "print('TRANSACTION CLEANING')\n",
    "i.df_info.columns_na(df_transactions)\n",
    "f.percentage_cleaning_tr(df_transactions,df)"
   ]
  },
  {
   "cell_type": "code",
   "execution_count": 4,
   "metadata": {},
   "outputs": [
    {
     "name": "stdout",
     "output_type": "stream",
     "text": [
      "MERGE DFF CLEANING\n",
      "Columns in original dataset: 30 \n",
      "Columns with na's dropped: 24 \n",
      "Columns with na: 6 \n",
      "Percent of columns with na: 20%\n",
      "\n",
      "638 last_name\n",
      "438 DOB\n",
      "2350 job_title\n",
      "3192 job_industry_category\n",
      "438 tenure\n",
      "438 age\n",
      "% revenue =  0.26133195682237287 , % len =  1.225\n"
     ]
    }
   ],
   "source": [
    "print('MERGE DFF CLEANING')\n",
    "dff = f.merge_df_inner(df_demographic,df_transactions,df_address)\n",
    "i.df_info.columns_na(dff)\n",
    "f.percentage_cleaning_tr(dff,df)\n"
   ]
  }
 ],
 "metadata": {
  "language_info": {
   "name": "python"
  },
  "orig_nbformat": 4
 },
 "nbformat": 4,
 "nbformat_minor": 2
}
