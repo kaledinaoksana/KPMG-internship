{
 "cells": [
  {
   "cell_type": "code",
   "execution_count": null,
   "metadata": {},
   "outputs": [],
   "source": [
    "import numpy as np\n",
    "import pandas as pd\n",
    "import lib.load as load\n",
    "import data_cleaning as dc\n",
    "import lib.df_info as i\n",
    "\n",
    "df = load.load_data()\n",
    "df_transactions = df[0]\n",
    "df_new_cust_list = df[1]\n",
    "df_demographic = df[2]\n",
    "df_address = df[3]\n",
    "\n",
    "dt = df[0]\n",
    "\n",
    "try:\n",
    "    df_demographic = dc.clean_demographic(df_demographic).reset_index(drop=True)\n",
    "    df_address = dc.clean_address(df_address).reset_index(drop=True)\n",
    "    df_transactions = dc.clean_transactions(df_transactions).reset_index(drop=True)\n",
    "except Exception:\n",
    "    print('ERROR.')\n",
    "\n",
    "\n",
    "def info_null():\n",
    "    i.df_info.columns_na(df_demographic)\n",
    "    print('_________________')\n",
    "    i.df_info.columns_na(df_address)\n",
    "    print('_________________')\n",
    "    i.df_info.columns_na(df_transactions)\n",
    "    print('_________________')\n",
    "    return\n",
    "\n",
    "\n",
    "info_null()"
   ]
  },
  {
   "attachments": {},
   "cell_type": "markdown",
   "metadata": {},
   "source": []
  },
  {
   "cell_type": "code",
   "execution_count": 5,
   "metadata": {},
   "outputs": [
    {
     "name": "stdout",
     "output_type": "stream",
     "text": [
      "/Users/oksana_kaledina/Documents/5_PORTFOLIO/KPMG/source/data.xlsx\n",
      "revenue =  1.93 , len =  0.985\n"
     ]
    },
    {
     "name": "stderr",
     "output_type": "stream",
     "text": [
      "/Users/oksana_kaledina/Documents/5_PORTFOLIO/KPMG/data_cleaning.py:19: FutureWarning: The pandas.datetime class is deprecated and will be removed from pandas in a future version. Import from datetime module instead.\n",
      "  df['age'] = df['DOB'].apply(lambda x : (pd.datetime.now().year - x.year))\n"
     ]
    }
   ],
   "source": [
    "import pandas as pd\n",
    "import numpy as np\n",
    "import lib.load as load\n",
    "import data_cleaning as dc\n",
    "\n",
    "# MERGE\n",
    "def merge_df(d_d,d_t,d_a):\n",
    "    # address + demographic\n",
    "    df = d_d.merge(d_a, how = 'outer', on = 'customer_id') \n",
    "    df = df.loc[df['first_name'].notnull()].reset_index().drop(columns=['index']) \n",
    "    # address + demographic + transactions\n",
    "    df = df.merge(d_t, how = 'outer', on = 'customer_id') \n",
    "    # CLEANING MERGED DF\n",
    "    df = df.drop(df[df['transaction_id'].isnull()].index)\n",
    "    # df = df.drop(df[df['first_name'].isnull()].index)\n",
    "    # df = df.drop(df[df['address'].isnull()].index)\n",
    "    # df = df.drop(df[df['DOB'].isnull()].index)\n",
    "    return df\n",
    "\n",
    "def revenue(df):\n",
    "    return (df['list_price'].sum()-df['standard_cost'].sum())\n",
    "    \n",
    "def percentage(x,y):\n",
    "    return 100*(x-y)/x\n",
    "\n",
    "\n",
    "df = load.load_data()\n",
    "df_transactions = df[0]\n",
    "df_new_cust_list = df[1]\n",
    "df_demographic = df[2]\n",
    "df_address = df[3]\n",
    "\n",
    "\n",
    "try:\n",
    "    df_demographic = dc.clean_demographic(df_demographic).reset_index(drop=True)\n",
    "    df_address = dc.clean_address(df_address).reset_index(drop=True)\n",
    "    df_transactions = dc.clean_transactions(df_transactions).reset_index(drop=True)\n",
    "except Exception:\n",
    "    print('ERROR.')\n",
    "\n",
    "dff = merge_df(df_demographic,df_transactions,df_address)\n",
    "\n",
    "per_revenue = percentage(revenue(df[0]),revenue(dff))\n",
    "per_len = percentage(len(df[0]), len(dff))\n",
    "\n",
    "print('revenue = ',per_revenue.round(2),', len = ',per_len.round(2))\n"
   ]
  },
  {
   "cell_type": "code",
   "execution_count": null,
   "metadata": {},
   "outputs": [],
   "source": [
    "d_a = df_address\n",
    "d_t = df_transactions\n",
    "d_d = df_demographic\n",
    "\n",
    "print(d_t['list_price'].sum())\n",
    "\n",
    "df = d_d.merge(d_a, how = 'outer', on = 'customer_id')\n",
    "df = df.loc[df['first_name'].notnull()].reset_index().drop(columns=['index'])\n",
    "\n",
    "\n",
    "df = df.merge(d_t, how = 'outer', on = 'customer_id')\n",
    "df = df.drop(df[df['transaction_id'].isnull()].index)\n",
    "# df = df.drop(df[df['first_name'].isnull()].index)\n",
    "# df = df.drop(df[df['address'].isnull()].index)\n",
    "# df = df.drop(df[df['DOB'].isnull()].index)\n",
    "\n",
    "revenue = dt['list_price'].sum()-dt['standard_cost'].sum()\n",
    "\n",
    "revenue_new = df['list_price'].sum()-df['standard_cost'].sum()\n",
    "\n",
    "\n",
    "i.df_info.columns_na(df)\n",
    "df['list_price'].sum()\n",
    "\n",
    "per = 100*(revenue - revenue_new)/revenue\n",
    "\n",
    "print(revenue.round(), revenue_new.round(), per.round(2), len(dt), len(df), len(dt)-len(df), 100*(len(dt)-len(df))/len(dt))\n",
    "\n",
    "\n"
   ]
  },
  {
   "cell_type": "code",
   "execution_count": null,
   "metadata": {},
   "outputs": [],
   "source": [
    "df"
   ]
  },
  {
   "cell_type": "code",
   "execution_count": null,
   "metadata": {},
   "outputs": [],
   "source": [
    "# df = df_demographic\n",
    "# df_train = df.drop(df[df['gender'] == 'U'].index).reset_index(drop=True)\n",
    "# df_new = df.drop(df[df['gender'] != 'U'].index).reset_index(drop=True)\n",
    "# df_train = df_train.drop_duplicates(subset=['first_name'])     \n",
    "\n",
    "# for gen in df_new.index:\n",
    "#     for name in df_train['first_name'].index:\n",
    "#         if (df_train.at[name,'first_name'] == df_new.at[gen,'first_name']):\n",
    "#             df_new.at[gen,'gender'] = df_train.at[name,'gender']\n",
    "# df_new"
   ]
  },
  {
   "cell_type": "code",
   "execution_count": null,
   "metadata": {},
   "outputs": [],
   "source": [
    "dt['list_price'].sum()-dt['standard_cost'].sum()"
   ]
  }
 ],
 "metadata": {
  "kernelspec": {
   "display_name": "env-01",
   "language": "python",
   "name": "python3"
  },
  "language_info": {
   "codemirror_mode": {
    "name": "ipython",
    "version": 3
   },
   "file_extension": ".py",
   "mimetype": "text/x-python",
   "name": "python",
   "nbconvert_exporter": "python",
   "pygments_lexer": "ipython3",
   "version": "3.9.16"
  },
  "orig_nbformat": 4
 },
 "nbformat": 4,
 "nbformat_minor": 2
}
